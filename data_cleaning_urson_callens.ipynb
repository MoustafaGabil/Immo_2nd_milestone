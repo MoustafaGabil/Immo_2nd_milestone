{
 "cells": [
  {
   "cell_type": "code",
   "execution_count": 1,
   "metadata": {},
   "outputs": [],
   "source": [
    "import pandas as pd\n",
    "df = pd.read_csv('filtered_data_residential.csv')\n",
    "df.describe()\n",
    "#1. Dropped duplicates based on property ID')\n",
    "df.drop_duplicates(subset=['Property ID'], keep='first', inplace=True)\n",
    "#2. Dropped the lines without price## \n",
    "df.dropna(subset=['Price'], inplace=True)"
   ]
  },
  {
   "cell_type": "code",
   "execution_count": null,
   "metadata": {},
   "outputs": [],
   "source": [
    "missing_data_summary = df.isnull().sum()\n",
    "missing_columns = missing_data_summary[missing_data_summary > 0]\n",
    "print(missing_columns)"
   ]
  },
  {
   "cell_type": "code",
   "execution_count": null,
   "metadata": {},
   "outputs": [],
   "source": [
    "#3. Drop lines with empty region / province (they have a postcode > 4 digits as well)\n",
    "df = df.dropna(subset=['Region'])\n",
    "df.info()\n",
    "#Keep only values with residential_sales as price_type)\n",
    "df = df[df['PriceType'] == 'residential_sale']\n",
    "# Convert df type int64 > Int64\n",
    "df = df.astype({col: 'Int64' for col in df.select_dtypes('int64').columns})"
   ]
  },
  {
   "cell_type": "code",
   "execution_count": null,
   "metadata": {},
   "outputs": [],
   "source": [
    "missing_data_summary = df.isnull().sum()\n",
    "missing_columns = missing_data_summary[missing_data_summary > 0]\n",
    "print(missing_columns)"
   ]
  },
  {
   "cell_type": "code",
   "execution_count": 5,
   "metadata": {},
   "outputs": [],
   "source": [
    "##Extra Variables = HasTerrace, HasGarden\"\n",
    "df['HasTerrace'] = (df['Terrace_Area'] > 0).astype(int)\n",
    "df['HasGarden'] = (df['Garden_Area'] > 0).astype(int) "
   ]
  },
  {
   "cell_type": "code",
   "execution_count": null,
   "metadata": {},
   "outputs": [],
   "source": [
    "df.info()"
   ]
  },
  {
   "cell_type": "code",
   "execution_count": null,
   "metadata": {},
   "outputs": [],
   "source": [
    "unique_counts = df.nunique()\n",
    "print(unique_counts)\n",
    "df = df.astype({col: 'Int64' for col in df.select_dtypes('int64').columns})"
   ]
  },
  {
   "cell_type": "code",
   "execution_count": null,
   "metadata": {},
   "outputs": [],
   "source": [
    "df.head()"
   ]
  },
  {
   "cell_type": "code",
   "execution_count": null,
   "metadata": {},
   "outputs": [],
   "source": [
    "columns_to_convert = ['Terrace_Area', 'Garden_Area', 'FacadeCount', 'FloorCount', 'ConstructionYear']\n",
    "\n",
    "df[columns_to_convert] = df[columns_to_convert].apply(lambda x: x.round().astype('Int64'))\n",
    "\n",
    "df.describe()"
   ]
  },
  {
   "cell_type": "code",
   "execution_count": 10,
   "metadata": {},
   "outputs": [],
   "source": [
    "df.to_csv('new_residential_data.csv', index=False)"
   ]
  }
 ],
 "metadata": {
  "kernelspec": {
   "display_name": ".venv",
   "language": "python",
   "name": "python3"
  },
  "language_info": {
   "codemirror_mode": {
    "name": "ipython",
    "version": 3
   },
   "file_extension": ".py",
   "mimetype": "text/x-python",
   "name": "python",
   "nbconvert_exporter": "python",
   "pygments_lexer": "ipython3",
   "version": "3.12.6"
  }
 },
 "nbformat": 4,
 "nbformat_minor": 2
}
